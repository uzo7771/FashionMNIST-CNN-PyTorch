{
 "cells": [
  {
   "cell_type": "code",
   "execution_count": null,
   "id": "e7686096",
   "metadata": {},
   "outputs": [],
   "source": [
    "import torch\n",
    "import torch.nn as nn\n",
    "import torchvision.transforms as transforms\n",
    "import torchvision.datasets as datasets\n",
    "import matplotlib.pyplot as plt\n",
    "from torch.utils.data import DataLoader"
   ]
  },
  {
   "cell_type": "code",
   "execution_count": 2,
   "id": "df9fa8d6",
   "metadata": {},
   "outputs": [],
   "source": [
    "mean_gray = 0.2860\n",
    "stddev_gray = 0.3530"
   ]
  },
  {
   "cell_type": "code",
   "execution_count": null,
   "id": "5251076a",
   "metadata": {},
   "outputs": [],
   "source": [
    "transform = transforms.Compose([transforms.ToTensor(),\n",
    "                                transforms.Normalize((mean_gray, ), (stddev_gray, ))])\n",
    "\n",
    "train_dataset = datasets.FashionMNIST(root = './data',\n",
    "                                      train = True,\n",
    "                                      transform = transform,\n",
    "                                      download = True)\n",
    "\n",
    "test_dataset = datasets.FashionMNIST(root = './data',\n",
    "                                      train = False,\n",
    "                                      transform = transform,\n",
    "                                      download = False)"
   ]
  },
  {
   "cell_type": "code",
   "execution_count": 73,
   "id": "be778590",
   "metadata": {},
   "outputs": [
    {
     "data": {
      "image/png": "[encoded data removed]",
      "text/plain": [
       "<Figure size 800x600 with 6 Axes>"
      ]
     },
     "metadata": {},
     "output_type": "display_data"
    }
   ],
   "source": [
    "fig, axes = plt.subplots(2 ,3, figsize = (8,6))\n",
    "\n",
    "for i, image_number in enumerate(torch.randint(low = 0, high = 100, size = (6,))):\n",
    "    ax = axes[i // 3, i % 3]\n",
    "    ax.imshow(train_dataset.data[image_number], cmap = 'gray')\n",
    "    ax.set_title(\"Label: \" + str(train_dataset.targets[image_number].item()))"
   ]
  },
  {
   "cell_type": "code",
   "execution_count": 5,
   "id": "66012b1a",
   "metadata": {},
   "outputs": [],
   "source": [
    "batch_size = 100\n",
    "\n",
    "train_loader = DataLoader(dataset = train_dataset,\n",
    "                          batch_size = batch_size,\n",
    "                          shuffle = True)\n",
    "\n",
    "test_loader = DataLoader(dataset = test_dataset,\n",
    "                          batch_size = batch_size,\n",
    "                          shuffle = False)"
   ]
  },
  {
   "cell_type": "code",
   "execution_count": 27,
   "id": "4ca1d64f",
   "metadata": {},
   "outputs": [],
   "source": [
    "class CNN(nn.Module):\n",
    "    def __init__(self):\n",
    "        super().__init__()\n",
    "        self.cnn1 = nn.Conv2d(in_channels = 1, out_channels = 8, kernel_size = 3, stride = 1, padding = 1)\n",
    "        self.batchnorm1 = nn.BatchNorm2d(8)\n",
    "        self.relu = nn.ReLU()\n",
    "        # output size: 28\n",
    "        self.maxpool = nn.MaxPool2d(kernel_size = 2)\n",
    "        # output size: 14\n",
    "\n",
    "        self.cnn2 = nn.Conv2d(in_channels = 8, out_channels = 32, kernel_size = 5, stride = 1, padding = 2)\n",
    "        self.batchnorm2 = nn.BatchNorm2d(32) \n",
    "        # output size: 14\n",
    "\n",
    "        self.fc1 = nn.Linear(7*7*32, 600)\n",
    "        self.dropout = nn.Dropout(p = 0.5)\n",
    "        self.fc2 = nn.Linear(600, 10)\n",
    "    def forward(self, x):\n",
    "        out = self.cnn1(x)\n",
    "        out = self.batchnorm1(out)\n",
    "        out = self.relu(out)\n",
    "        out = self.maxpool(out)\n",
    "\n",
    "        out = self.cnn2(out)\n",
    "        out = self.batchnorm2(out)\n",
    "        out = self.relu(out)\n",
    "        out = self.maxpool(out)\n",
    "\n",
    "        out = out.view(-1, 7*7*32)\n",
    "\n",
    "        out = self.fc1(out)\n",
    "        out = self.relu(out)\n",
    "        out = self.dropout(out)\n",
    "        out = self.fc2(out)\n",
    "        return out\n"
   ]
  },
  {
   "cell_type": "code",
   "execution_count": 28,
   "id": "93e3cdb9",
   "metadata": {},
   "outputs": [],
   "source": [
    "model = CNN()\n",
    "CUDA = torch.cuda.is_available()\n",
    "if CUDA:\n",
    "    model = model.cuda()\n",
    "\n",
    "loss_fn = nn.CrossEntropyLoss()\n",
    "optimalizer = torch.optim.Adam(model.parameters(), lr = 0.01)"
   ]
  },
  {
   "cell_type": "code",
   "execution_count": 42,
   "id": "79c934bd",
   "metadata": {},
   "outputs": [
    {
     "name": "stdout",
     "output_type": "stream",
     "text": [
      "Epoch: 1/ 5, Train loss: 0.281, Train accuracy: 0.898, Test loss: 0.272, Test accuracy: 0.905\n",
      "Epoch: 2/ 5, Train loss: 0.268, Train accuracy: 0.903, Test loss: 0.287, Test accuracy: 0.899\n",
      "Epoch: 3/ 5, Train loss: 0.265, Train accuracy: 0.904, Test loss: 0.274, Test accuracy: 0.904\n",
      "Epoch: 4/ 5, Train loss: 0.256, Train accuracy: 0.905, Test loss: 0.281, Test accuracy: 0.906\n",
      "Epoch: 5/ 5, Train loss: 0.250, Train accuracy: 0.909, Test loss: 0.283, Test accuracy: 0.905\n"
     ]
    }
   ],
   "source": [
    "# Train the CNN\n",
    "\n",
    "num_epochs = 5\n",
    "train_loss = []\n",
    "train_accuracy = []\n",
    "test_loss = []\n",
    "test_accuracy = []\n",
    "\n",
    "for epoch in range(num_epochs):\n",
    "    correct = 0\n",
    "    iterations = 0\n",
    "    iter_loss = 0.0\n",
    "\n",
    "    model.train()\n",
    "    for i, (inputs, labels) in enumerate(train_loader):\n",
    "        if CUDA:\n",
    "            inputs = inputs.cuda()\n",
    "            labels = labels.cuda()\n",
    "        outputs = model(inputs)\n",
    "        loss = loss_fn(outputs, labels)\n",
    "        iter_loss += loss.item()\n",
    "\n",
    "        optimalizer.zero_grad()\n",
    "        loss.backward()\n",
    "        optimalizer.step()\n",
    "        \n",
    "        _ , predicted = torch.max(outputs, 1)\n",
    "        correct += (predicted == labels).sum().item()\n",
    "        iterations += 1\n",
    "    train_loss.append(iter_loss/iterations)\n",
    "    train_accuracy.append(correct / len(train_dataset))\n",
    "\n",
    "    iter_loss = 0.0\n",
    "    correct = 0\n",
    "    iterations = 0\n",
    "\n",
    "    model.eval()\n",
    "    for i, (inputs, labels) in enumerate(test_loader):\n",
    "        if CUDA:\n",
    "            inputs = inputs.cuda()\n",
    "            labels = labels.cuda()\n",
    "        outputs = model(inputs)\n",
    "        loss = loss_fn(outputs, labels)\n",
    "        iter_loss += loss.item()\n",
    "\n",
    "        _ , predicted = torch.max(outputs, 1)\n",
    "        correct += (predicted == labels).sum().item()\n",
    "        iterations += 1\n",
    "    test_loss.append(iter_loss/iterations)\n",
    "    test_accuracy.append(correct / len(test_dataset))\n",
    "    print(\"Epoch: {}/ {}, Train loss: {:.3f}, Train accuracy: {:.3f}, Test loss: {:.3f}, Test accuracy: {:.3f}\".format(\n",
    "        epoch+1, num_epochs, train_loss[-1], train_accuracy[-1], test_loss[-1], test_accuracy[-1]\n",
    "    ))\n"
   ]
  },
  {
   "cell_type": "code",
   "execution_count": null,
   "id": "89eb6053",
   "metadata": {},
   "outputs": [
    {
     "name": "stdout",
     "output_type": "stream",
     "text": [
      "Prediction is: 8\n",
      "Actual is: 8\n"
     ]
    }
   ],
   "source": [
    "image = test_dataset[30][0].view(1,1,28,28)\n",
    "label = test_dataset[30][1]\n",
    "\n",
    "model.eval()\n",
    "outputs = model(image)\n",
    "_,predicted = torch.max(outputs, 1)\n",
    "print(\"Prediction is: {}\".format(predicted.item()))\n",
    "print(\"Actual is: {}\".format(label)) "
   ]
  }
 ],
 "metadata": {
  "kernelspec": {
   "display_name": "Python 3",
   "language": "python",
   "name": "python3"
  },
  "language_info": {
   "codemirror_mode": {
    "name": "ipython",
    "version": 3
   },
   "file_extension": ".py",
   "mimetype": "text/x-python",
   "name": "python",
   "nbconvert_exporter": "python",
   "pygments_lexer": "ipython3",
   "version": "3.9.13"
  }
 },
 "nbformat": 4,
 "nbformat_minor": 5
}
